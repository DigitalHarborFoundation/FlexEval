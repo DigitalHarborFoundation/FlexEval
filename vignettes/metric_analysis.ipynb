{
 "cells": [
  {
   "cell_type": "markdown",
   "id": "512a79f9-25ac-469e-9322-0b199e08436e",
   "metadata": {},
   "source": [
    "# Metric Analysis\n",
    "\n",
    "This vignette demonstrates accessing the results of a completed Eval Run."
   ]
  },
  {
   "cell_type": "code",
   "execution_count": null,
   "id": "3f84238d-0ab5-425e-8946-7a8e2ea10aa3",
   "metadata": {},
   "outputs": [],
   "source": []
  },
  {
   "cell_type": "markdown",
   "id": "a177fe23-afd0-4548-8fb9-6073308a21cd",
   "metadata": {},
   "source": [
    "## Part 1: Running FlexEval to compute some metrics\n",
    "\n",
    "We'll create some test data, build an eval, and execute it."
   ]
  },
  {
   "cell_type": "code",
   "execution_count": 1,
   "id": "5efa0406-0987-42f7-b54a-6833244babbf",
   "metadata": {},
   "outputs": [
    {
     "ename": "ModuleNotFoundError",
     "evalue": "No module named 'flexeval'",
     "output_type": "error",
     "traceback": [
      "\u001b[0;31m---------------------------------------------------------------------------\u001b[0m",
      "\u001b[0;31mModuleNotFoundError\u001b[0m                       Traceback (most recent call last)",
      "Cell \u001b[0;32mIn[1], line 1\u001b[0m\n\u001b[0;32m----> 1\u001b[0m \u001b[38;5;28;01mimport\u001b[39;00m\u001b[38;5;250m \u001b[39m\u001b[38;5;21;01mflexeval\u001b[39;00m\n",
      "\u001b[0;31mModuleNotFoundError\u001b[0m: No module named 'flexeval'"
     ]
    }
   ],
   "source": [
    "import flexeval"
   ]
  },
  {
   "cell_type": "code",
   "execution_count": null,
   "id": "29409e33-a291-4d56-9a43-0a654bb4fe09",
   "metadata": {},
   "outputs": [],
   "source": []
  },
  {
   "cell_type": "markdown",
   "id": "914afcd2-a9f4-49bb-9a2c-c0d8c489e353",
   "metadata": {},
   "source": [
    "## Part 2: Analyzing our results\n",
    "\n",
    "We'll analyze the data we created in Part 1."
   ]
  },
  {
   "cell_type": "code",
   "execution_count": 3,
   "id": "dfc96668-199c-4fed-9d69-ade24df05e25",
   "metadata": {},
   "outputs": [
    {
     "ename": "ModuleNotFoundError",
     "evalue": "No module named 'pandas'",
     "output_type": "error",
     "traceback": [
      "\u001b[0;31m---------------------------------------------------------------------------\u001b[0m",
      "\u001b[0;31mModuleNotFoundError\u001b[0m                       Traceback (most recent call last)",
      "Cell \u001b[0;32mIn[3], line 1\u001b[0m\n\u001b[0;32m----> 1\u001b[0m \u001b[38;5;28;01mimport\u001b[39;00m\u001b[38;5;250m \u001b[39m\u001b[38;5;21;01mpandas\u001b[39;00m\u001b[38;5;250m \u001b[39m\u001b[38;5;28;01mas\u001b[39;00m\u001b[38;5;250m \u001b[39m\u001b[38;5;21;01mpd\u001b[39;00m\n\u001b[1;32m      2\u001b[0m \u001b[38;5;28;01mimport\u001b[39;00m\u001b[38;5;250m \u001b[39m\u001b[38;5;21;01mmatplotlib\u001b[39;00m\u001b[38;5;21;01m.\u001b[39;00m\u001b[38;5;21;01mpyplot\u001b[39;00m\u001b[38;5;250m \u001b[39m\u001b[38;5;28;01mas\u001b[39;00m\u001b[38;5;250m \u001b[39m\u001b[38;5;21;01mplt\u001b[39;00m\n",
      "\u001b[0;31mModuleNotFoundError\u001b[0m: No module named 'pandas'"
     ]
    }
   ],
   "source": [
    "import pandas as pd\n",
    "import matplotlib.pyplot as plt"
   ]
  },
  {
   "cell_type": "code",
   "execution_count": null,
   "id": "3710a57b-a4f4-42c7-89c3-46d784568667",
   "metadata": {},
   "outputs": [],
   "source": []
  }
 ],
 "metadata": {
  "kernelspec": {
   "display_name": "Python 3 (ipykernel)",
   "language": "python",
   "name": "python3"
  },
  "language_info": {
   "codemirror_mode": {
    "name": "ipython",
    "version": 3
   },
   "file_extension": ".py",
   "mimetype": "text/x-python",
   "name": "python",
   "nbconvert_exporter": "python",
   "pygments_lexer": "ipython3",
   "version": "3.10.11"
  }
 },
 "nbformat": 4,
 "nbformat_minor": 5
}
